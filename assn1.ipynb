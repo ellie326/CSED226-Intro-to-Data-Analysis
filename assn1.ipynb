{
 "cells": [
  {
   "cell_type": "markdown",
   "metadata": {},
   "source": [
    "# HW01\n",
    "In this assignment, you will practice basics of python, numpy and pandas.\n",
    "\n",
    "Please follow the instructions below:\n",
    "\n",
    "1. Write down your code between <br>\n",
    "&nbsp;&nbsp;&nbsp;&nbsp; **\\# BEGIN_YOUR_CODE**<br>\n",
    "&nbsp;&nbsp;&nbsp;&nbsp; and<br>\n",
    "&nbsp;&nbsp;&nbsp;&nbsp; **\\# END_YOUR_CODE**.\n",
    "\n",
    "2. Do not use **external libraries**. (i.e., Do not use any `import` in your code) <br>\n",
    "   Your code will fail to execute and get **0 score** if you use them.\n",
    "\n",
    "3. Rename this file to **[student_id].ipynb** (e.g. 20221234.ipynb) and submit it to PLMS. <br>\n",
    "   There is **20% penalty** if you do not follow the submission format.\n",
    "\n",
    "4. Submission more than one day late is not accepted.\n",
    "   There is **50% penalty** for late submission up to one day."
   ]
  },
  {
   "cell_type": "code",
   "execution_count": 13,
   "metadata": {},
   "outputs": [],
   "source": [
    "import numpy as np\n",
    "import pandas as pd"
   ]
  },
  {
   "cell_type": "markdown",
   "metadata": {},
   "source": [
    "## Problem 1. Fibonacci [2 points]\n",
    "Given `n`, implement function `fib(n)` that calculates `n`-th Fibonacci number. <br>\n",
    "Assume `n` is a positive integer and `fib(0)`=0, `fib(1)`=1."
   ]
  },
  {
   "cell_type": "code",
   "execution_count": 2,
   "metadata": {},
   "outputs": [],
   "source": [
    "def fib(n):\n",
    "    # BEGIN_YOUR_CODE\n",
    "\n",
    "    if n <= 0: \n",
    "        return 0\n",
    "    elif n == 1: \n",
    "        return 1\n",
    "    else:\n",
    "        return fib(n-1) + fib(n-2)\n",
    "    \n",
    "    # END_YOUR_CODE"
   ]
  },
  {
   "cell_type": "markdown",
   "metadata": {},
   "source": [
    "## Problem 2. Maximum Word Count [2 points]\n",
    "Given `filename`, implement function `max_word_count(filename)` that finds the most frequent words. <br>\n",
    "You should open a file whose name is `filename` and return two things as a tuple: <br>\n",
    "The first one is a set of words that occur the maximum number of times and the second one is their counts."
   ]
  },
  {
   "cell_type": "code",
   "execution_count": 1,
   "metadata": {},
   "outputs": [],
   "source": [
    "def max_word_count(filename):\n",
    "    # BEGIN_YOUR_CODE\n",
    "\n",
    "    word_count = {}\n",
    "    max_frequency = 0\n",
    "    most_frequent_words = set()\n",
    "\n",
    "    with open(filename, 'r') as file:\n",
    "        for line in file:\n",
    "            words = line.split()\n",
    "            for word in words:\n",
    "                if word:\n",
    "                    if word in word_count:\n",
    "                        word_count[word] += 1\n",
    "                    else:\n",
    "                        word_count[word] = 1\n",
    "                    if word_count[word] > max_frequency:\n",
    "                        max_frequency = word_count[word]\n",
    "                        most_frequent_words = {word}\n",
    "                    elif word_count[word] == max_frequency:\n",
    "                        most_frequent_words.add(word)\n",
    "                        \n",
    "    return most_frequent_words, max_frequency\n",
    "\n",
    "#leo-will txt example \n",
    "#filename = 'leo-will.txt'\n",
    "#most_frequent_words, max_frequency = max_word_count(filename)\n",
    "#print(most_frequent_words, max_frequency)\n",
    "    # END_YOUR_CODE"
   ]
  },
  {
   "cell_type": "markdown",
   "metadata": {},
   "source": [
    "## Problem 3. Average Price [3 points]\n",
    "Given `cars`, implement function `average_prices(cars)` that returns a dictionary which contains each `brand` as a key and the average price of cars of that `brand` as a value."
   ]
  },
  {
   "cell_type": "code",
   "execution_count": 3,
   "metadata": {},
   "outputs": [],
   "source": [
    "class car:\n",
    "    def __init__(self, args):\n",
    "        brand, model, price =  args\n",
    "        self.brand = brand\n",
    "        self.model = model\n",
    "        self.price = price\n",
    "\n",
    "def average_prices(cars):\n",
    "    # BEGIN_YOUR_CODE\n",
    "\n",
    "    total_prices = {}\n",
    "    counts = {}\n",
    "\n",
    "    for car in cars:\n",
    "        brand = car.brand\n",
    "        price = car.price \n",
    "\n",
    "        if brand in total_prices:\n",
    "            total_prices[brand] += price\n",
    "            counts[brand] += 1\n",
    "        else:\n",
    "            total_prices[brand] = price \n",
    "            counts[brand] = 1 \n",
    "    avg_prices = {}\n",
    "\n",
    "    for brand, total_price in total_prices.items():\n",
    "        avg = total_price / counts[brand]\n",
    "        avg_prices[brand] = avg\n",
    "    \n",
    "    return avg_prices\n",
    "\n",
    "    # END_YOUR_CODE"
   ]
  },
  {
   "cell_type": "markdown",
   "metadata": {},
   "source": [
    "## Problem 4. Manhattan Distance [2 points]\n",
    "Given two numpy arrays `arr1` and `arr2`, implement function `manhattan_distance` that calculates Manhattan distance between `arr1` and `arr2`. <br>\n",
    "You need to utilize numpy library for this problem."
   ]
  },
  {
   "cell_type": "code",
   "execution_count": 4,
   "metadata": {},
   "outputs": [],
   "source": [
    "def manhattan_distance(arr1, arr2):\n",
    "    # BEGIN_YOUR_CODE\n",
    "    sqr = np.square(arr1 - arr2)\n",
    "    dist = np.sqrt(np.sum(sqr))\n",
    "\n",
    "    return dist\n",
    "    # END_YOUR_CODE"
   ]
  },
  {
   "cell_type": "markdown",
   "metadata": {},
   "source": [
    "## Problem 5. CSV Modification [5 points]\n",
    "Your goal is to modify given csv file with below constraints. <br>\n",
    "The inputs are paths of the original data and modified data. <br>\n",
    "You need to utilize pandas library for this problem.\n",
    "\n",
    "### Constraints\n",
    "- The requirements must be followed in the same order as given below.<br>\n",
    "  (If not, you might attain different results although you followed everything correctly.)\n",
    "1. The modified csv file should not contain columns `Cabin` and `Embarked`.\n",
    "2. The modified csv file should not contain missing values. <br>\n",
    "   All rows with a missing value needs to be dropped.\n",
    "3. The modified csv file should only have `survived` = 1.\n",
    "4. The column `Pclass` should be one hot encoding.\n",
    "5. Value of `Age` should be `young` if it is smaller than 65 and `old` otherwise."
   ]
  },
  {
   "cell_type": "code",
   "execution_count": 15,
   "metadata": {},
   "outputs": [],
   "source": [
    "def titanic(original_file, modified_file):\n",
    "    # BEGIN_YOUR_CODE\n",
    "    df = pd.read_csv(original_file)\n",
    "\n",
    "    # 1\n",
    "    del df[\"Cabin\"]\n",
    "    del df[\"Embarked\"]\n",
    "    # 2\n",
    "    df.dropna(inplace = True)\n",
    "    #3\n",
    "    df = df[df['Survived'] == 1]\n",
    "    #4 \n",
    "    df = pd.get_dummies(df, columns = ['Pclass'])\n",
    "    #5\n",
    "    df[\"Age\"] = np.where(df[\"Age\"] < 65, \"young\", \"old\") \n",
    "\n",
    "\n",
    "    # END_YOUR_CODE\n",
    "    df.to_csv(modified_file, index=False)\n",
    "\n",
    "#titanic(\"titan.csv\", \"new.csv\")"
   ]
  },
  {
   "cell_type": "markdown",
   "metadata": {},
   "source": [
    "## Problem 6. Employee and Department [6 points]\n",
    "For this problem, three csv files, `departments.csv`, `employees.csv` and `employees2.csv`, are given. <br>\n",
    "There are 2 sub problems. <br>\n",
    "You need to utilize pandas library for this problem."
   ]
  },
  {
   "cell_type": "markdown",
   "metadata": {},
   "source": [
    "### 6.a Employee Table [3 points]\n",
    "Make employee table that has `name`, `salary` and `department_name` as columns. <br>\n",
    "Note that each department has its own `department_id` and `department_name`."
   ]
  },
  {
   "cell_type": "code",
   "execution_count": 23,
   "metadata": {},
   "outputs": [
    {
     "name": "stdout",
     "output_type": "stream",
     "text": [
      "   employee_id    name  salary department_name\n",
      "0            1    John    5000           sales\n",
      "1            2   Allen    6000      accounting\n",
      "2            3  Martin    3500        research\n",
      "3            4    Mary    5500           sales\n",
      "4            5   Smith    4500        research\n",
      "5            6   Scott    7100      accounting\n",
      "6            7     Tom    4500           sales\n",
      "7            8   Admas    5000        research\n",
      "8            9  Hunter    3000        research\n",
      "9           10    King    5100      accounting\n"
     ]
    }
   ],
   "source": [
    "def emp_table(dep, emp1, emp2):\n",
    "    # BEGIN_YOUR_CODE\n",
    "    employee1_df = pd.read_csv(emp1)\n",
    "    employee2_df = pd.read_csv(emp2)\n",
    "    dep_df = pd.read_csv(dep)\n",
    "\n",
    "    df = pd.concat([employee1_df, employee2_df], ignore_index = True)\n",
    "\n",
    "    df = pd.merge(df, dep_df, on = 'department_id', how = 'left')\n",
    "\n",
    "    df.drop(columns = ['department_id'], inplace = True)\n",
    "\n",
    "    # END_YOUR_CODE\n",
    "    return df\n",
    "\n",
    "#df = emp_table(\"departments.csv\", \"employees.csv\", \"employees2.csv\")\n",
    "#print(df)"
   ]
  },
  {
   "cell_type": "markdown",
   "metadata": {},
   "source": [
    "### 6.b Highest Salary [3 points]\n",
    "Find an employee with the highest salary of each department. <br>\n",
    "The output must be a dictionary which contains `department_name` as a key and an employee's `name` as a value. <br>\n",
    "You can use `emp_table` in 6.a."
   ]
  },
  {
   "cell_type": "code",
   "execution_count": 25,
   "metadata": {},
   "outputs": [
    {
     "name": "stdout",
     "output_type": "stream",
     "text": [
      "{'accounting': 'Scott', 'research': 'Admas', 'sales': 'Mary'}\n"
     ]
    }
   ],
   "source": [
    "def highest_salary(dep, emp1, emp2):\n",
    "    # BEGIN_YOUR_CODE\n",
    "    df = emp_table(dep, emp1, emp2)\n",
    "\n",
    "    dept = df.groupby('department_name')\n",
    "\n",
    "    highest_salary = {}\n",
    "\n",
    "    for department, group in dept:\n",
    "        max_index = group['salary'].idxmax()\n",
    "        name = group.loc[max_index, 'name']\n",
    "\n",
    "        highest_salary[department] = name\n",
    "    \n",
    "    return highest_salary\n",
    "    # END_YOUR_CODE\n",
    "\n",
    "#p = highest_salary(\"departments.csv\", \"employees.csv\", \"employees2.csv\")\n",
    "#print(p)"
   ]
  }
 ],
 "metadata": {
  "anaconda-cloud": {},
  "kernelspec": {
   "display_name": "Python 3",
   "language": "python",
   "name": "python3"
  },
  "language_info": {
   "codemirror_mode": {
    "name": "ipython",
    "version": 3
   },
   "file_extension": ".py",
   "mimetype": "text/x-python",
   "name": "python",
   "nbconvert_exporter": "python",
   "pygments_lexer": "ipython3",
   "version": "3.10.3"
  }
 },
 "nbformat": 4,
 "nbformat_minor": 1
}
